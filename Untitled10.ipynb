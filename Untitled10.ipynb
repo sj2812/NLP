{
  "nbformat": 4,
  "nbformat_minor": 0,
  "metadata": {
    "colab": {
      "name": "Untitled10.ipynb",
      "provenance": []
    },
    "kernelspec": {
      "name": "python3",
      "display_name": "Python 3"
    }
  },
  "cells": [
    {
      "cell_type": "code",
      "metadata": {
        "id": "_r1AdUb9QUcK",
        "colab_type": "code",
        "colab": {}
      },
      "source": [
        "import requests\n",
        "import json\n",
        "import csv\n",
        "import xml.etree.ElementTree as ET \n",
        "import urllib\n",
        "import urllib.request\n",
        "import shutil\n",
        "\n",
        "\n",
        "\n"
      ],
      "execution_count": 0,
      "outputs": []
    },
    {
      "cell_type": "code",
      "metadata": {
        "id": "BC7Yovn_Q-wJ",
        "colab_type": "code",
        "colab": {}
      },
      "source": [
        "# scopus_author_search_url = 'https://api.elsevier.com/content/article/pii/S0736585317302769?'\n",
        "# headers = {'Accept':'application/json', 'X-ELS-APIKey': 'f202e79f5f94584f509bf748d90fbb8b'}\n",
        "# search_query = 'query=AUTHFIRST(%s) AND AUTHLASTNAME(%s) AND SUBJAREA(%s)' % ('John', 'Kitchin', 'COMP')\n",
        "\n",
        "# # api_resource = \"http://api.elsevier.com/content/search/author?apiKey=%s&\" % (SCOPUS_API_KEY)\n",
        "\n",
        "# # request with first searching page\n",
        "# # page_request = requests.get(scopus_author_search_url + search_query, headers=headers)\n",
        "# page_request = requests.get(scopus_author_search_url, headers=headers)\n",
        "# print (page_request.content)\n",
        "\n",
        "# # response to json\n",
        "# page = json.loads(page_request.content.decode(\"utf-8\"))\n",
        "# with open('file.txt', 'w') as file:\n",
        "#      file.write(json.dumps(page))\n",
        "# print(page)"
      ],
      "execution_count": 0,
      "outputs": []
    },
    {
      "cell_type": "markdown",
      "metadata": {
        "id": "va7BML6GLpMa",
        "colab_type": "text"
      },
      "source": [
        "The first task was to get the urls of the articles which have an open access.\n",
        "\n",
        "Steps followed:\n",
        "\n",
        "1. Go to the following link:\n",
        "\n",
        "  https://www.sciencedirect.com/search/advanced?qs=highlights&articleTypes=FLA&accessTypes=openaccess&show=100&offset=3600\n",
        "\n",
        "  This link is obtained by filtering out the documents with open access and keyword \"highlights\"\n",
        "\n",
        "2. Click on Export and select Export citations to text\n",
        "\n",
        "3. You willl get a text file which is used as input to the following code which gives a list of urls"
      ]
    },
    {
      "cell_type": "code",
      "metadata": {
        "id": "Uvn4lXaGM1kg",
        "colab_type": "code",
        "colab": {}
      },
      "source": [
        "import re\n",
        "\n",
        "def extractURLs(fileContent):\n",
        "    urls = re.findall('\\(http[s]?://(?:[a-zA-Z]|[0-9]|[$-_@.&+]|[!*\\(\\),]|(?:%[0-9a-fA-F][0-9a-fA-F]))+', fileContent.lower())\n",
        "\n",
        "    for url in urls:\n",
        "        print(url)\n",
        "    return urls\n",
        "\n",
        "myFile = open(\"ScienceDirect_citations_1575215179038.txt\",encoding=\"utf8\")\n",
        "fileContent = myFile.read()\n",
        "extractURLs(fileContent)"
      ],
      "execution_count": 0,
      "outputs": []
    },
    {
      "cell_type": "markdown",
      "metadata": {
        "id": "0XYVTr9zM6H0",
        "colab_type": "text"
      },
      "source": [
        "The following code downloads the content in xml format for the given PII and APIKey\n",
        "\n",
        "Here, PII  is 'S0736585317302769' and APIKey is 'f202e79f5f94584f509bf748d90fbb8b'"
      ]
    },
    {
      "cell_type": "code",
      "metadata": {
        "id": "jxF7Nwlcmei_",
        "colab_type": "code",
        "colab": {
          "base_uri": "https://localhost:8080/",
          "height": 34
        },
        "outputId": "73d022d4-6bcd-4d3b-ac0b-f41ae3532b6d"
      },
      "source": [
        "\n",
        "piir = \"http://api.elsevier.com/content/article/PII:\" + 'S0736585317302769' + \"?httpAccept=text/xml&APIKey=\" + 'f202e79f5f94584f509bf748d90fbb8b'\n",
        "local_filename, headers=urllib.request.urlretrieve(piir)\n",
        "shutil.copy(local_filename , 'S0736585317302769' + \".xml\")\n"
      ],
      "execution_count": 54,
      "outputs": [
        {
          "output_type": "execute_result",
          "data": {
            "text/plain": [
              "'S0736585317302769.xml'"
            ]
          },
          "metadata": {
            "tags": []
          },
          "execution_count": 54
        }
      ]
    }
  ]
}